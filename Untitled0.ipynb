{
  "nbformat": 4,
  "nbformat_minor": 0,
  "metadata": {
    "colab": {
      "provenance": [],
      "authorship_tag": "ABX9TyNTG8jTEvTusI52BEJ1/OY6",
      "include_colab_link": true
    },
    "kernelspec": {
      "name": "python3",
      "display_name": "Python 3"
    },
    "language_info": {
      "name": "python"
    }
  },
  "cells": [
    {
      "cell_type": "markdown",
      "metadata": {
        "id": "view-in-github",
        "colab_type": "text"
      },
      "source": [
        "<a href=\"https://colab.research.google.com/github/rzulty2137/SAN/blob/main/Untitled0.ipynb\" target=\"_parent\"><img src=\"https://colab.research.google.com/assets/colab-badge.svg\" alt=\"Open In Colab\"/></a>"
      ]
    },
    {
      "cell_type": "code",
      "execution_count": 1,
      "metadata": {
        "colab": {
          "base_uri": "https://localhost:8080/"
        },
        "id": "sjaCoeX5VG5p",
        "outputId": "dca3ac7c-3cc1-495a-d8f6-db81b71efc2b"
      },
      "outputs": [
        {
          "output_type": "stream",
          "name": "stdout",
          "text": [
            "Komentarz: Ten film był niesamowity! Uwielbiam go!\n",
            "Wynik analizy: {'neg': 0.0, 'neu': 1.0, 'pos': 0.0, 'compound': 0.0}\n",
            "---\n",
            "Komentarz: Beznadziejny, strata czasu.\n",
            "Wynik analizy: {'neg': 0.0, 'neu': 1.0, 'pos': 0.0, 'compound': 0.0}\n",
            "---\n",
            "Komentarz: Całkiem niezły, ale bez szału.\n",
            "Wynik analizy: {'neg': 0.0, 'neu': 1.0, 'pos': 0.0, 'compound': 0.0}\n",
            "---\n",
            "Komentarz: To najlepsza książka, jaką czytałem!\n",
            "Wynik analizy: {'neg': 0.0, 'neu': 1.0, 'pos': 0.0, 'compound': 0.0}\n",
            "---\n",
            "Komentarz: Nudne i przewidywalne.\n",
            "Wynik analizy: {'neg': 0.0, 'neu': 1.0, 'pos': 0.0, 'compound': 0.0}\n",
            "---\n"
          ]
        },
        {
          "output_type": "stream",
          "name": "stderr",
          "text": [
            "[nltk_data] Downloading package vader_lexicon to /root/nltk_data...\n"
          ]
        }
      ],
      "source": [
        "import nltk\n",
        "from nltk.sentiment import SentimentIntensityAnalyzer\n",
        "\n",
        "nltk.download('vader_lexicon')\n",
        "\n",
        "sia = SentimentIntensityAnalyzer()\n",
        "\n",
        "komentarze = [\n",
        "    \"Ten film był niesamowity! Uwielbiam go!\",\n",
        "    \"Beznadziejny, strata czasu.\",\n",
        "    \"Całkiem niezły, ale bez szału.\",\n",
        "    \"To najlepsza książka, jaką czytałem!\",\n",
        "    \"Nudne i przewidywalne.\"\n",
        "]\n",
        "\n",
        "for komentarz in komentarze:\n",
        "    wynik = sia.polarity_scores(komentarz)\n",
        "    print(f\"Komentarz: {komentarz}\")\n",
        "    print(f\"Wynik analizy: {wynik}\")\n",
        "    print(\"---\")"
      ]
    }
  ]
}